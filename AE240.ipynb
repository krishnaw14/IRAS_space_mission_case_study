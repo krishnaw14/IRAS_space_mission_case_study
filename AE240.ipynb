{
 "cells": [
  {
   "cell_type": "markdown",
   "metadata": {},
   "source": [
    "# AE 240 Assignement- Launch Vehicle Trajectory Code"
   ]
  },
  {
   "cell_type": "code",
   "execution_count": 115,
   "metadata": {},
   "outputs": [],
   "source": [
    "from __future__ import print_function\n",
    "from numpy import *\n",
    "import pandas as pd"
   ]
  },
  {
   "cell_type": "code",
   "execution_count": 116,
   "metadata": {},
   "outputs": [],
   "source": [
    "import matplotlib.pyplot as plt\n",
    "%matplotlib inline"
   ]
  },
  {
   "cell_type": "code",
   "execution_count": 117,
   "metadata": {},
   "outputs": [],
   "source": [
    "q=0.001921\n",
    "g0=9.81\n",
    "\n",
    "\n",
    "def g_h(h): # value of g at an altitude h\n",
    "    factor=( 6371.0/(h+6371.0) )**2\n",
    "    return g0*factor\n",
    "\n",
    "def beta(m_i, m_f, t): #burn rate for the vertical launch (Assumed Constant)\n",
    "    return (m_i-m_f)/t"
   ]
  },
  {
   "cell_type": "code",
   "execution_count": 118,
   "metadata": {},
   "outputs": [],
   "source": [
    "#Functions for parameters in a constant pitch rate trajectory\n",
    "\n",
    "def TOF(theta_a, theta_b): #Time of flight to go from angle A to B in constant pitch trajectory\n",
    "    return (theta_a-theta_b)/q\n",
    "\n",
    "def theta_final(theta_initial, TOF ): #Final angle for a given initial angle and TOF\n",
    "    return q*TOF+theta_initial\n",
    "\n",
    "def velocity1(theta, g):\n",
    "    return g*sin(theta)/q\n",
    "\n",
    "def altitude_constant_q(theta_i, theta_f, g, h0):\n",
    "    return ( g*(cos(2*theta_i)-cos(2*theta_f))/(4*q*q) +h0 )"
   ]
  },
  {
   "cell_type": "code",
   "execution_count": 119,
   "metadata": {},
   "outputs": [],
   "source": [
    "#Functions for parameters in a vertical launch\n",
    "\n",
    "def vel_ideal(m_i,m_f,Isp): #Ideal Velocity without the impact of gravity\n",
    "    return g0*Isp*log(m_i/m_f)\n",
    "\n",
    "def vel_gravity(m_i, m_f, Isp, g, t): #Velocity taking into account gravity\n",
    "    return (vel_ideal(m_i,m_f,Isp) - g*t)\n",
    " \n",
    "def altitude_vertial_launch(m_i, m_f, Isp, g, t): #Altitude attained by the vertical launch\n",
    "    L = (m_f-m_i)/m_i\n",
    "    b=beta(m_i,m_f,t)\n",
    "    H = ( (m_i*g0*Isp)/b)*((1-L)*log(1-L) + L) -0.5*g*t*t\n",
    "    return H"
   ]
  },
  {
   "cell_type": "markdown",
   "metadata": {},
   "source": [
    "## Stage 1"
   ]
  },
  {
   "cell_type": "code",
   "execution_count": 120,
   "metadata": {},
   "outputs": [],
   "source": [
    "#These data have been mentioned in the report and have been obtained from http://www.astronautix.com/c/castor4.html\n",
    "\n",
    "m01 = 190000\n",
    "m11 = 106615\n",
    "Tb1 = 54\n",
    "Isp1= 261"
   ]
  },
  {
   "cell_type": "code",
   "execution_count": 121,
   "metadata": {},
   "outputs": [],
   "source": [
    "t1 = 10\n",
    "t2 = Tb1-t1"
   ]
  },
  {
   "cell_type": "markdown",
   "metadata": {},
   "source": [
    "###### For a certain time t1, the Launch vehicle undergoes vertical motion. After that, it receives a pitch kick of theta0, and executes a constant pitch rate gravity turn till angle theta1 in the 1st stage"
   ]
  },
  {
   "cell_type": "code",
   "execution_count": 133,
   "metadata": {},
   "outputs": [
    {
     "name": "stdout",
     "output_type": "stream",
     "text": [
      "H0:  3165.26640262\n",
      "V0:  867.148698105\n",
      "Burn rate for the vertical launch:  5967.21503 kg/s\n"
     ]
    }
   ],
   "source": [
    "#Calculations for the vertical launch\n",
    "m = 130327.8497\n",
    "\n",
    "V0 = vel_gravity(m01, m, Isp1, g0, t1)\n",
    "H0 = altitude_vertial_launch(m01, m, Isp1, g0, t1)\n",
    "g01 = g_h(H0/1000.0)\n",
    "g=(g01+g0)/2.0\n",
    "V0 = vel_gravity(m01, m, Isp1, g, t1)\n",
    "H0 = altitude_vertial_launch(m01, m, Isp1, g, t1)\n",
    "beta0 = beta(m01, m, t1)\n",
    "print(\"H0: \", H0)\n",
    "print(\"V0: \", V0)\n",
    "print(\"Burn rate for the vertical launch: \",beta0, \"kg/s\")"
   ]
  },
  {
   "cell_type": "code",
   "execution_count": 134,
   "metadata": {},
   "outputs": [
    {
     "name": "stdout",
     "output_type": "stream",
     "text": [
      "Pitch kick at the start:  9.77651472565\n",
      "Altitude at stage 1 separation:  29.8769284886 km\n",
      "Theta at stage 1 separation:  15.7200351177 degrees\n",
      "Velocity at stage 1 separation:  0.697734586421 km/s\n",
      "Burn rate after vertical launch to stage 1 separation:  538.928402273 kg/s\n"
     ]
    }
   ],
   "source": [
    "#Calculations from time t1 to time Tb\n",
    "\n",
    "theta0=arcsin(V0*q/g0)\n",
    "theta1=theta_final(theta0, Tb1)\n",
    "altitude1=altitude_constant_q(theta0, theta1, g0, H0)\n",
    "g01 = g_h(altitude1)\n",
    "g1=(g0+g01)/2.0\n",
    "altitude1=altitude_constant_q(theta0, theta1, g1, 0)\n",
    "\n",
    "V1=velocity1(theta1,g1)\n",
    "\n",
    "beta1 =beta(m, m11, t2)\n",
    "\n",
    "print(\"Pitch kick at the start: \", theta0*180/pi)\n",
    "print(\"Altitude at stage 1 separation: \", altitude1/1000, \"km\")\n",
    "print(\"Theta at stage 1 separation: \", theta1*180/pi, \"degrees\")\n",
    "print(\"Velocity at stage 1 separation: \", V1/1000, \"km/s\")\n",
    "print(\"Burn rate after vertical launch to stage 1 separation: \",beta1, \"kg/s\")"
   ]
  },
  {
   "cell_type": "markdown",
   "metadata": {},
   "source": [
    "## Stage 2"
   ]
  },
  {
   "cell_type": "code",
   "execution_count": 135,
   "metadata": {},
   "outputs": [],
   "source": [
    "#These data have been mentioned in the report and have been obtained from http://www.astronautix.com/d/deltathorrs27.html\n",
    "Tb2 = 223\n",
    "Isp2 = 296\n",
    "m12 = 95194\n",
    "m22 = 15186"
   ]
  },
  {
   "cell_type": "code",
   "execution_count": 136,
   "metadata": {},
   "outputs": [
    {
     "name": "stdout",
     "output_type": "stream",
     "text": [
      "Altitude at stage 2 separation:  386.079479528 km\n",
      "Theta at stage 2 separation:  45.2645694461 degrees\n",
      "Velocity at stage 2 separation:  3.62762857794 km/s\n",
      "Burn rate from stage 1 separation to stage 2 separation:  358 kg/s\n"
     ]
    }
   ],
   "source": [
    "#Calulculations from stage 1 separation to stage 2 separation\n",
    "\n",
    "#pitch kick of 5 degrees at the start of this stage\n",
    "theta1+=0.0872664\n",
    "theta2=theta_final(theta1, Tb2)\n",
    "\n",
    "altitude2=altitude_constant_q(theta1, theta2, g1, altitude1)\n",
    "g12=g_h((altitude1+altitude2)/1000.0)\n",
    "g2=(g12+g1)/2.0\n",
    "altitude2=altitude_constant_q(theta1, theta2, g2, altitude1)\n",
    "\n",
    "V2=velocity1(theta2,g0)\n",
    "\n",
    "beta2 = beta(m12, m22, Tb2)\n",
    "\n",
    "print(\"Altitude at stage 2 separation: \", altitude2/1000, \"km\")\n",
    "print(\"Theta at stage 2 separation: \", theta2*180/pi, \"degrees\")\n",
    "print(\"Velocity at stage 2 separation: \", V2/1000, \"km/s\")\n",
    "print(\"Burn rate from stage 1 separation to stage 2 separation: \",beta2, \"kg/s\")"
   ]
  },
  {
   "cell_type": "markdown",
   "metadata": {},
   "source": [
    "## Stage 3"
   ]
  },
  {
   "cell_type": "code",
   "execution_count": 137,
   "metadata": {},
   "outputs": [],
   "source": [
    "#These data have been mentioned in the report and have been obtained from http://www.astronautix.com/d/deltap.html\n",
    "\n",
    "Tb3 = 322\n",
    "Isp3 = 301\n",
    "m13 = 10826\n",
    "m23 = 6306"
   ]
  },
  {
   "cell_type": "code",
   "execution_count": 138,
   "metadata": {},
   "outputs": [
    {
     "name": "stdout",
     "output_type": "stream",
     "text": [
      "Altitude at stage 3 separation:  947.491994488 km\n",
      "Theta at stage 3 separation:  90.7053938117 degrees\n",
      "Velocity at stage 3 separation:  5.10632824069 km/s\n",
      "Burn rate from stage 2 separation to stage 3 separation:  14 kg/s\n"
     ]
    }
   ],
   "source": [
    "#Calculations from stage 2 separation to stage 3 separation\n",
    "\n",
    "theta3 = theta_final(theta2, Tb3)\n",
    "theta3+=0.17453\n",
    "\n",
    "altitude3=altitude_constant_q(theta2, theta3, g2, altitude2)\n",
    "g13=g_h((altitude3+altitude2)/1000.0)\n",
    "g3=(g+g2)/2.0\n",
    "altitude3=altitude_constant_q(theta2, theta3, g3, altitude2)\n",
    "\n",
    "V3 = velocity1(theta3, g0)\n",
    "\n",
    "beta3 = beta(m13, m23, Tb3)\n",
    "\n",
    "print(\"Altitude at stage 3 separation: \", altitude3/1000, \"km\")\n",
    "print(\"Theta at stage 3 separation: \", theta3*180/pi, \"degrees\")\n",
    "print(\"Velocity at stage 3 separation: \", V3/1000, \"km/s\")\n",
    "print(\"Burn rate from stage 2 separation to stage 3 separation: \",beta3, \"kg/s\")"
   ]
  },
  {
   "cell_type": "markdown",
   "metadata": {},
   "source": [
    "## Error in the final parameters obtained"
   ]
  },
  {
   "cell_type": "code",
   "execution_count": 139,
   "metadata": {},
   "outputs": [],
   "source": [
    "theta = pi/2 #Since final theta of the trajectory is 90 degrees\n",
    "altitude = 1000000 # Launch vehicle trajectory is assumed circular with the given altitude as 1000 km "
   ]
  },
  {
   "cell_type": "code",
   "execution_count": 140,
   "metadata": {},
   "outputs": [
    {
     "name": "stdout",
     "output_type": "stream",
     "text": [
      "Error in theta:  -0.783770901896 %\n",
      "Error in altitude:  5.25080055115 %\n"
     ]
    }
   ],
   "source": [
    "error_theta = 100*(theta-theta3)/theta\n",
    "error_altitude = 100*(altitude-altitude3)/altitude\n",
    "\n",
    "print(\"Error in theta: \", error_theta, \"%\")\n",
    "print(\"Error in altitude: \", error_altitude, \"%\")"
   ]
  },
  {
   "cell_type": "markdown",
   "metadata": {},
   "source": [
    "## Graphs and Plots"
   ]
  },
  {
   "cell_type": "code",
   "execution_count": 141,
   "metadata": {},
   "outputs": [
    {
     "data": {
      "image/png": "[encoded data removed]",
      "text/plain": [
       "<matplotlib.figure.Figure at 0x7fc76c0c16d0>"
      ]
     },
     "metadata": {},
     "output_type": "display_data"
    }
   ],
   "source": [
    "#Plotting theta as a function of time\n",
    "theta_values=[]\n",
    "time_values=[]\n",
    "\n",
    "#stage 1\n",
    "time1=linspace(0,10,10)\n",
    "theta_list_1=repeat(0,10)\n",
    "time2=linspace(10, 54, 44)\n",
    "theta_list_2=time2*q+0.1705\n",
    "\n",
    "#stage 2\n",
    "time3=linspace(54, 277, 223)\n",
    "theta_list_3=(time3-54)*q+theta_list_2[-1]+0.0872664\n",
    "\n",
    "#stage 3\n",
    "time4=linspace(277, 599, 322)\n",
    "theta_list_4=(time4-277)*q+theta_list_3[-1]+0.17453\n",
    "\n",
    "time_values = concatenate((time1,time2,time3, time4), axis=0)\n",
    "theta_values = concatenate((theta_list_1,theta_list_2,theta_list_3, theta_list_4), axis=0)\n",
    "\n",
    "plt.plot(time_values, theta_values)\n",
    "plt.title(\"Variation of theta with time\")\n",
    "plt.xlabel(\"Time (s)\")\n",
    "plt.ylabel(\"theta(radians)\")\n",
    "plt.annotate(\"Start constant q motion\", xy=(time1[-1], theta_list_1[-1]))\n",
    "plt.annotate(\"1st stage burnout\", xy=(time2[-1], theta_list_2[-1]))\n",
    "plt.annotate(\"2nd stage burnout\", xy=(time3[-1], theta_list_3[-1]))\n",
    "plt.annotate(\"3rd stage burnout\", xy=(time4[-1], theta_list_4[-1]))\n",
    "plt.plot(time1[-1], theta_list_1[-1], 'ro')\n",
    "plt.plot(time2[-1], theta_list_2[-1], 'ro')\n",
    "plt.plot(time3[-1], theta_list_3[-1], 'ro')\n",
    "plt.plot(time4[-1], theta_list_4[-1], 'ro')\n",
    "plt.savefig(\"theta.png\")"
   ]
  },
  {
   "cell_type": "code",
   "execution_count": 144,
   "metadata": {},
   "outputs": [
    {
     "data": {
      "image/png": "[encoded data removed]",
      "text/plain": [
       "<matplotlib.figure.Figure at 0x7fc7650c1d90>"
      ]
     },
     "metadata": {},
     "output_type": "display_data"
    }
   ],
   "source": [
    "#Plotting velocity as a function of time\n",
    "velocity_values=[]\n",
    "time_values=[]\n",
    "\n",
    "#stage 1\n",
    "time1=linspace(0,10,10)\n",
    "velocity_list_1=vel_gravity(m01, m01-beta0*time1, Isp1, g, time1)\n",
    "time2=linspace(10, 54, 44)\n",
    "velocity_list_2=velocity1(theta_list_2,g0)\n",
    "\n",
    "#stage 2\n",
    "time3=linspace(54, 277, 223)\n",
    "velocity_list_3=velocity1(theta_list_3,g0)\n",
    "\n",
    "#stage 3\n",
    "time4=linspace(277, 599, 322)\n",
    "append(time4, array([599]))\n",
    "velocity_list_4=velocity1(theta_list_4,g0)\n",
    "append(velocity_list_4, array([7273.6]))\n",
    "\n",
    "time_values = concatenate((time1,time2,time3, time4) , axis=0)\n",
    "velocity_values = concatenate((velocity_list_1,velocity_list_2,velocity_list_3, velocity_list_4), axis=0)\n",
    "\n",
    "plt.plot(time_values, velocity_values)\n",
    "plt.title(\"Variation of velocity with time\")\n",
    "plt.xlabel(\"Time (s)\")\n",
    "plt.ylabel(\"Velocity (m/s)\")\n",
    "\n",
    "plt.annotate(\"Start constant q motion\", xy=(time1[-1], velocity_list_1[-1]))\n",
    "plt.annotate(\"1st stage burnout\", xy=(time2[-1], velocity_list_2[-1]))\n",
    "plt.annotate(\"2nd stage burnout\", xy=(time3[-1], velocity_list_3[-1]))\n",
    "plt.annotate(\"3rd stage burnout\", xy=(time4[-1], velocity_list_4[-1]))\n",
    "#plt.annotate(\"Final velocity after manoeuvre\", xy=(time4[-1], 7273.6))\n",
    "plt.plot(time1[-1], velocity_list_1[-1], 'ro')\n",
    "plt.plot(time2[-1], velocity_list_2[-1], 'ro')\n",
    "plt.plot(time3[-1], velocity_list_3[-1], 'ro')\n",
    "plt.plot(time4[-1], velocity_list_4[-1], 'ro')\n",
    "plt.savefig(\"Velocity.png\")"
   ]
  },
  {
   "cell_type": "code",
   "execution_count": 145,
   "metadata": {},
   "outputs": [
    {
     "data": {
      "image/png": "[encoded data removed]",
      "text/plain": [
       "<matplotlib.figure.Figure at 0x7fc764f331d0>"
      ]
     },
     "metadata": {},
     "output_type": "display_data"
    }
   ],
   "source": [
    "#Plotting height as a function of time\n",
    "alt_values=[]\n",
    "time_values=[]\n",
    "\n",
    "#stage 1\n",
    "time1=linspace(1e-1,10,10)\n",
    "alt_list_1=altitude_vertial_launch(m01, m, Isp1, g0, time1)\n",
    "time2=linspace(10, 54, 44)\n",
    "alt_list_2=altitude_constant_q(theta0, theta_list_2, g1, H0)\n",
    "\n",
    "#stage 2\n",
    "time3=linspace(54, 277, 223)\n",
    "alt_list_3=altitude_constant_q(theta1, theta_list_3, g2, altitude1)\n",
    "\n",
    "#stage 3\n",
    "time4=linspace(277, 599, 322)\n",
    "alt_list_4=altitude_constant_q(theta2, theta_list_4, g3, altitude2)\n",
    "\n",
    "time_values = concatenate((time1,time2,time3, time4) , axis=0)\n",
    "alt_values = concatenate((alt_list_1,alt_list_2,alt_list_3, alt_list_4), axis=0)\n",
    "\n",
    "plt.plot(time_values, alt_values)\n",
    "plt.title(\"Variation of Altitude with time\")\n",
    "plt.xlabel(\"Time (s)\")\n",
    "plt.ylabel(\"Altitude (m)\")\n",
    "\n",
    "plt.annotate(\"Start constant q motion\", xy=(time1[-1], alt_list_1[-1]))\n",
    "plt.annotate(\"1st stage burnout\", xy=(time2[-1], alt_list_2[-1]))\n",
    "plt.annotate(\"2nd stage burnout\", xy=(time3[-1], alt_list_3[-1]))\n",
    "plt.annotate(\"3rd stage burnout\", xy=(time4[-1], alt_list_4[-1]))\n",
    "plt.plot(time1[-1], alt_list_1[-1], 'ro')\n",
    "plt.plot(time2[-1], alt_list_2[-1], 'ro')\n",
    "plt.plot(time3[-1], alt_list_3[-1], 'ro')\n",
    "plt.plot(time4[-1], alt_list_4[-1], 'ro')\n",
    "plt.savefig(\"altitude.png\")"
   ]
  }
 ],
 "metadata": {
  "kernelspec": {
   "display_name": "Python 2",
   "language": "python",
   "name": "python2"
  },
  "language_info": {
   "codemirror_mode": {
    "name": "ipython",
    "version": 2
   },
   "file_extension": ".py",
   "mimetype": "text/x-python",
   "name": "python",
   "nbconvert_exporter": "python",
   "pygments_lexer": "ipython2",
   "version": "2.7.12"
  }
 },
 "nbformat": 4,
 "nbformat_minor": 2
}
